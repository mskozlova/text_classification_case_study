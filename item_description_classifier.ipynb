{
 "cells": [
  {
   "cell_type": "code",
   "execution_count": 1,
   "id": "6011010d",
   "metadata": {},
   "outputs": [],
   "source": [
    "import numpy as np\n",
    "import pandas as pd"
   ]
  },
  {
   "cell_type": "markdown",
   "id": "1bf9b1e7",
   "metadata": {},
   "source": [
    "## Get and explore data"
   ]
  },
  {
   "cell_type": "code",
   "execution_count": 2,
   "id": "ea6553b6",
   "metadata": {},
   "outputs": [],
   "source": [
    "# https://zenodo.org/records/3355823\n",
    "file_name = \"ecommerceDataset.csv\"\n",
    "data = pd.read_csv(file_name, header=None)\n",
    "data.columns = [\"category\", \"description\"]"
   ]
  },
  {
   "cell_type": "code",
   "execution_count": 3,
   "id": "d59f2d65",
   "metadata": {},
   "outputs": [
    {
     "name": "stdout",
     "output_type": "stream",
     "text": [
      "Rows, cols: (50425, 2)\n"
     ]
    },
    {
     "data": {
      "text/html": [
       "<div>\n",
       "<style scoped>\n",
       "    .dataframe tbody tr th:only-of-type {\n",
       "        vertical-align: middle;\n",
       "    }\n",
       "\n",
       "    .dataframe tbody tr th {\n",
       "        vertical-align: top;\n",
       "    }\n",
       "\n",
       "    .dataframe thead th {\n",
       "        text-align: right;\n",
       "    }\n",
       "</style>\n",
       "<table border=\"1\" class=\"dataframe\">\n",
       "  <thead>\n",
       "    <tr style=\"text-align: right;\">\n",
       "      <th></th>\n",
       "      <th>category</th>\n",
       "      <th>description</th>\n",
       "    </tr>\n",
       "  </thead>\n",
       "  <tbody>\n",
       "    <tr>\n",
       "      <th>0</th>\n",
       "      <td>Household</td>\n",
       "      <td>Paper Plane Design Framed Wall Hanging Motivat...</td>\n",
       "    </tr>\n",
       "    <tr>\n",
       "      <th>1</th>\n",
       "      <td>Household</td>\n",
       "      <td>SAF 'Floral' Framed Painting (Wood, 30 inch x ...</td>\n",
       "    </tr>\n",
       "    <tr>\n",
       "      <th>2</th>\n",
       "      <td>Household</td>\n",
       "      <td>SAF 'UV Textured Modern Art Print Framed' Pain...</td>\n",
       "    </tr>\n",
       "    <tr>\n",
       "      <th>3</th>\n",
       "      <td>Household</td>\n",
       "      <td>SAF Flower Print Framed Painting (Synthetic, 1...</td>\n",
       "    </tr>\n",
       "    <tr>\n",
       "      <th>4</th>\n",
       "      <td>Household</td>\n",
       "      <td>Incredible Gifts India Wooden Happy Birthday U...</td>\n",
       "    </tr>\n",
       "    <tr>\n",
       "      <th>5</th>\n",
       "      <td>Household</td>\n",
       "      <td>Pitaara Box Romantic Venice Canvas Painting 6m...</td>\n",
       "    </tr>\n",
       "    <tr>\n",
       "      <th>6</th>\n",
       "      <td>Household</td>\n",
       "      <td>Paper Plane Design Starry Night Vangoh Wall Ar...</td>\n",
       "    </tr>\n",
       "    <tr>\n",
       "      <th>7</th>\n",
       "      <td>Household</td>\n",
       "      <td>Pitaara Box Romantic Venice Canvas Painting 6m...</td>\n",
       "    </tr>\n",
       "    <tr>\n",
       "      <th>8</th>\n",
       "      <td>Household</td>\n",
       "      <td>SAF 'Ganesh Modern Art Print' Painting (Synthe...</td>\n",
       "    </tr>\n",
       "    <tr>\n",
       "      <th>9</th>\n",
       "      <td>Household</td>\n",
       "      <td>Paintings Villa UV Textured Modern Art Print F...</td>\n",
       "    </tr>\n",
       "  </tbody>\n",
       "</table>\n",
       "</div>"
      ],
      "text/plain": [
       "    category                                        description\n",
       "0  Household  Paper Plane Design Framed Wall Hanging Motivat...\n",
       "1  Household  SAF 'Floral' Framed Painting (Wood, 30 inch x ...\n",
       "2  Household  SAF 'UV Textured Modern Art Print Framed' Pain...\n",
       "3  Household  SAF Flower Print Framed Painting (Synthetic, 1...\n",
       "4  Household  Incredible Gifts India Wooden Happy Birthday U...\n",
       "5  Household  Pitaara Box Romantic Venice Canvas Painting 6m...\n",
       "6  Household  Paper Plane Design Starry Night Vangoh Wall Ar...\n",
       "7  Household  Pitaara Box Romantic Venice Canvas Painting 6m...\n",
       "8  Household  SAF 'Ganesh Modern Art Print' Painting (Synthe...\n",
       "9  Household  Paintings Villa UV Textured Modern Art Print F..."
      ]
     },
     "execution_count": 3,
     "metadata": {},
     "output_type": "execute_result"
    }
   ],
   "source": [
    "print(\"Rows, cols:\", data.shape)\n",
    "data.head(10)"
   ]
  },
  {
   "cell_type": "markdown",
   "id": "be31ea60",
   "metadata": {},
   "source": [
    "Category distribution"
   ]
  },
  {
   "cell_type": "code",
   "execution_count": 4,
   "id": "23c84cca",
   "metadata": {},
   "outputs": [
    {
     "data": {
      "text/plain": [
       "Household                 19313\n",
       "Books                     11820\n",
       "Electronics               10621\n",
       "Clothing & Accessories     8671\n",
       "Name: category, dtype: int64"
      ]
     },
     "execution_count": 4,
     "metadata": {},
     "output_type": "execute_result"
    }
   ],
   "source": [
    "data[\"category\"].value_counts()"
   ]
  },
  {
   "cell_type": "markdown",
   "id": "4f1a1d88",
   "metadata": {},
   "source": [
    "Description examples"
   ]
  },
  {
   "cell_type": "code",
   "execution_count": 9,
   "id": "a8665344",
   "metadata": {},
   "outputs": [
    {
     "name": "stdout",
     "output_type": "stream",
     "text": [
      "Category: Household\n",
      "Description:\n",
      "Desi Rang Wooden Chalkboard for Restaurant Bar Menu Memo, Tabletop Display Stand, Message Board (16x28cm) Size:Medium, 11\" inch   WHAT is THIS: Table top small / mini black board with beautiful wooden stand with white chalkb>Display for message, small menu, dishes name, signs, decor, decal, decoration at office counter, bulletin board, meeting room, event, children birthday, partystrong>PLACE AT: in Home at study table, kitchen, dining table, side table, decoration & in restaurant at counter, table, In Office at reception, meeting room, or Decorate with essage and arts and crafts SIZE: Please check picture,  Small (12 x 23 cm, 4. 7\" x 9\" inch (W x H), Chalk Board size 12 x 14 cm) strong>Medium (16 x 28 cm, 6. 3\" x 11\" inch (W x H), Chalk Board Size 16 x 18 cm) strong>Large (20 x 36 cm, 7. 8\" x 14. 2\" inch (W x H), Chalk Board Size 20 x 27 cm) MATERIAL: Natural fine wood easel with Medium Density Fiberboardstrong>FOLDABLE: YESstrong>Height Adjustable: Nostrong>Magnetic: No PACKAGE INCLUDES: 1 piece of Blackboard with wooden stand & Chalk strong>NOT INCLUDED: duster or pen.\n",
      "\n",
      "\n",
      "Category: Books\n",
      "Description:\n",
      "Manipulation of the Spine, Thorax and Pelvis: with access to www.spinethoraxpelvis.com, 4e About the Author Professor Peter GibbonsAdjunct Associate Professor Department of Rehabilitation SciencesCollege of Allied Health SciencesOklahoma University Health Science CenterUSA\n",
      "\n",
      "\n",
      "Category: Clothing & Accessories\n",
      "Description:\n",
      "RC. ROYAL CLASS Unisex Boy's Girl's Full Length Soft Cotton Socks - Pack of 5 RC. ROYAL CLASS pure cotton socks for boys and girls in assorted colors, made from soft cotton yarn and spandex for stretch and elasticity. Very soft cotton socks for kids, from age group 1- 16 years. Do not iron or bleach. Hand wash only.\n",
      "\n",
      "\n",
      "Category: Electronics\n",
      "Description:\n",
      "HP 803 Black Original Ink Cartridge Colour:Black   HP 803 Ink Cartridge, black- Print high-quality documents with Original HP ink cartridges—designed with fraud protection and smart low-ink alerts to deliver worry-free performance and consistent results you can count on.\n",
      "\n",
      "\n"
     ]
    }
   ],
   "source": [
    "for category in data[\"category\"].unique():\n",
    "    row_example = data[data[\"category\"] == category].sample(n=100).iloc[0]\n",
    "    print(f\"Category: {row_example['category']}\\nDescription:\\n{row_example['description']}\\n\\n\")"
   ]
  }
 ],
 "metadata": {
  "kernelspec": {
   "display_name": "Python 3 (ipykernel)",
   "language": "python",
   "name": "python3"
  },
  "language_info": {
   "codemirror_mode": {
    "name": "ipython",
    "version": 3
   },
   "file_extension": ".py",
   "mimetype": "text/x-python",
   "name": "python",
   "nbconvert_exporter": "python",
   "pygments_lexer": "ipython3",
   "version": "3.9.6"
  }
 },
 "nbformat": 4,
 "nbformat_minor": 5
}
