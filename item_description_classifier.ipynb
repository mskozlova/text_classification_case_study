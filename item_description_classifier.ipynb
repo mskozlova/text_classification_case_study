{
 "cells": [
  {
   "cell_type": "code",
   "execution_count": 1,
   "id": "6011010d",
   "metadata": {},
   "outputs": [],
   "source": [
    "import numpy as np\n",
    "import pandas as pd"
   ]
  },
  {
   "cell_type": "markdown",
   "id": "1bf9b1e7",
   "metadata": {},
   "source": [
    "## Get and explore data"
   ]
  },
  {
   "cell_type": "code",
   "execution_count": 2,
   "id": "ea6553b6",
   "metadata": {},
   "outputs": [],
   "source": [
    "# https://zenodo.org/records/3355823\n",
    "file_name = \"ecommerceDataset.csv\"\n",
    "data = pd.read_csv(file_name, header=None)\n",
    "data.columns = [\"category\", \"description\"]"
   ]
  },
  {
   "cell_type": "code",
   "execution_count": 3,
   "id": "d59f2d65",
   "metadata": {},
   "outputs": [
    {
     "name": "stdout",
     "output_type": "stream",
     "text": [
      "Rows, cols: (50425, 2)\n"
     ]
    },
    {
     "data": {
      "text/html": [
       "<div>\n",
       "<style scoped>\n",
       "    .dataframe tbody tr th:only-of-type {\n",
       "        vertical-align: middle;\n",
       "    }\n",
       "\n",
       "    .dataframe tbody tr th {\n",
       "        vertical-align: top;\n",
       "    }\n",
       "\n",
       "    .dataframe thead th {\n",
       "        text-align: right;\n",
       "    }\n",
       "</style>\n",
       "<table border=\"1\" class=\"dataframe\">\n",
       "  <thead>\n",
       "    <tr style=\"text-align: right;\">\n",
       "      <th></th>\n",
       "      <th>category</th>\n",
       "      <th>description</th>\n",
       "    </tr>\n",
       "  </thead>\n",
       "  <tbody>\n",
       "    <tr>\n",
       "      <th>0</th>\n",
       "      <td>Household</td>\n",
       "      <td>Paper Plane Design Framed Wall Hanging Motivat...</td>\n",
       "    </tr>\n",
       "    <tr>\n",
       "      <th>1</th>\n",
       "      <td>Household</td>\n",
       "      <td>SAF 'Floral' Framed Painting (Wood, 30 inch x ...</td>\n",
       "    </tr>\n",
       "    <tr>\n",
       "      <th>2</th>\n",
       "      <td>Household</td>\n",
       "      <td>SAF 'UV Textured Modern Art Print Framed' Pain...</td>\n",
       "    </tr>\n",
       "    <tr>\n",
       "      <th>3</th>\n",
       "      <td>Household</td>\n",
       "      <td>SAF Flower Print Framed Painting (Synthetic, 1...</td>\n",
       "    </tr>\n",
       "    <tr>\n",
       "      <th>4</th>\n",
       "      <td>Household</td>\n",
       "      <td>Incredible Gifts India Wooden Happy Birthday U...</td>\n",
       "    </tr>\n",
       "    <tr>\n",
       "      <th>5</th>\n",
       "      <td>Household</td>\n",
       "      <td>Pitaara Box Romantic Venice Canvas Painting 6m...</td>\n",
       "    </tr>\n",
       "    <tr>\n",
       "      <th>6</th>\n",
       "      <td>Household</td>\n",
       "      <td>Paper Plane Design Starry Night Vangoh Wall Ar...</td>\n",
       "    </tr>\n",
       "    <tr>\n",
       "      <th>7</th>\n",
       "      <td>Household</td>\n",
       "      <td>Pitaara Box Romantic Venice Canvas Painting 6m...</td>\n",
       "    </tr>\n",
       "    <tr>\n",
       "      <th>8</th>\n",
       "      <td>Household</td>\n",
       "      <td>SAF 'Ganesh Modern Art Print' Painting (Synthe...</td>\n",
       "    </tr>\n",
       "    <tr>\n",
       "      <th>9</th>\n",
       "      <td>Household</td>\n",
       "      <td>Paintings Villa UV Textured Modern Art Print F...</td>\n",
       "    </tr>\n",
       "  </tbody>\n",
       "</table>\n",
       "</div>"
      ],
      "text/plain": [
       "    category                                        description\n",
       "0  Household  Paper Plane Design Framed Wall Hanging Motivat...\n",
       "1  Household  SAF 'Floral' Framed Painting (Wood, 30 inch x ...\n",
       "2  Household  SAF 'UV Textured Modern Art Print Framed' Pain...\n",
       "3  Household  SAF Flower Print Framed Painting (Synthetic, 1...\n",
       "4  Household  Incredible Gifts India Wooden Happy Birthday U...\n",
       "5  Household  Pitaara Box Romantic Venice Canvas Painting 6m...\n",
       "6  Household  Paper Plane Design Starry Night Vangoh Wall Ar...\n",
       "7  Household  Pitaara Box Romantic Venice Canvas Painting 6m...\n",
       "8  Household  SAF 'Ganesh Modern Art Print' Painting (Synthe...\n",
       "9  Household  Paintings Villa UV Textured Modern Art Print F..."
      ]
     },
     "execution_count": 3,
     "metadata": {},
     "output_type": "execute_result"
    }
   ],
   "source": [
    "print(\"Rows, cols:\", data.shape)\n",
    "data.head(10)"
   ]
  },
  {
   "cell_type": "markdown",
   "id": "cc84d914",
   "metadata": {},
   "source": [
    "Category distribution"
   ]
  },
  {
   "cell_type": "code",
   "execution_count": 4,
   "id": "23c84cca",
   "metadata": {},
   "outputs": [
    {
     "data": {
      "text/plain": [
       "Household                 19313\n",
       "Books                     11820\n",
       "Electronics               10621\n",
       "Clothing & Accessories     8671\n",
       "Name: category, dtype: int64"
      ]
     },
     "execution_count": 4,
     "metadata": {},
     "output_type": "execute_result"
    }
   ],
   "source": [
    "data[\"category\"].value_counts()"
   ]
  },
  {
   "cell_type": "markdown",
   "id": "a8317a42",
   "metadata": {},
   "source": [
    "Description examples"
   ]
  },
  {
   "cell_type": "code",
   "execution_count": 10,
   "id": "a8665344",
   "metadata": {},
   "outputs": [
    {
     "name": "stdout",
     "output_type": "stream",
     "text": [
      "CATEGORY: Household\n",
      "DESCRIPTION:\n",
      "Marical High-Lighting Lives Portable Plug Adjustable LED Wall Light with 5 W Bulb and G9 Holder (Rose Gold/Black Nickel Finish) Twisted Tungsten Designs introduces this quirky and designer wall plug lamp which can be used easily anywhere in your space which has a three pin socket. It is a direct LED light which serves the purpose of decorative and functional lighting.\n",
      "\n",
      "\n",
      "CATEGORY: Books\n",
      "DESCRIPTION:\n",
      "The Consolation of Philosophy\n",
      "\n",
      "\n",
      "CATEGORY: Clothing & Accessories\n",
      "DESCRIPTION:\n",
      "Fareto® Baby Mom & Dad Quotes Combo of 5 Full Sleeves Printed T-Shirts/Tees/Daily Wear Tees\n",
      "\n",
      "\n",
      "CATEGORY: Electronics\n",
      "DESCRIPTION:\n",
      "Sony HDRCX405 9.2MP HD Handycam Camcorder with Free Carrying Case (Black) Size:Camcorder   Create clearer memories with Full HD/60p and Optical SteadyShot image stabilization. Every moment you capture benefits from a 26.8mm wide angle ZEISS lens and 30x Optical / 60x Clear Image Zoom. Easily charge or transfer files with the built-in USB cable, and automatically create highlight videos from multiple clips in MP4 for easy sharing.\n",
      "\n",
      "\n"
     ]
    }
   ],
   "source": [
    "for category in data[\"category\"].unique():\n",
    "    row_example = data[data[\"category\"] == category].sample(n=100).iloc[0]\n",
    "    print(f\"CATEGORY: {row_example['category']}\\nDESCRIPTION:\\n{row_example['description']}\\n\\n\")"
   ]
  },
  {
   "cell_type": "markdown",
   "id": "02c14638",
   "metadata": {},
   "source": [
    "Handling empty values"
   ]
  },
  {
   "cell_type": "code",
   "execution_count": 14,
   "id": "45357286",
   "metadata": {},
   "outputs": [
    {
     "name": "stdout",
     "output_type": "stream",
     "text": [
      "<class 'pandas.core.frame.DataFrame'>\n",
      "RangeIndex: 50425 entries, 0 to 50424\n",
      "Data columns (total 2 columns):\n",
      " #   Column       Non-Null Count  Dtype \n",
      "---  ------       --------------  ----- \n",
      " 0   category     50425 non-null  object\n",
      " 1   description  50424 non-null  object\n",
      "dtypes: object(2)\n",
      "memory usage: 788.0+ KB\n"
     ]
    }
   ],
   "source": [
    "data.info()"
   ]
  },
  {
   "cell_type": "code",
   "execution_count": 13,
   "id": "6b26d45b",
   "metadata": {},
   "outputs": [
    {
     "data": {
      "text/html": [
       "<div>\n",
       "<style scoped>\n",
       "    .dataframe tbody tr th:only-of-type {\n",
       "        vertical-align: middle;\n",
       "    }\n",
       "\n",
       "    .dataframe tbody tr th {\n",
       "        vertical-align: top;\n",
       "    }\n",
       "\n",
       "    .dataframe thead th {\n",
       "        text-align: right;\n",
       "    }\n",
       "</style>\n",
       "<table border=\"1\" class=\"dataframe\">\n",
       "  <thead>\n",
       "    <tr style=\"text-align: right;\">\n",
       "      <th></th>\n",
       "      <th>category</th>\n",
       "      <th>description</th>\n",
       "    </tr>\n",
       "  </thead>\n",
       "  <tbody>\n",
       "    <tr>\n",
       "      <th>39330</th>\n",
       "      <td>Clothing &amp; Accessories</td>\n",
       "      <td>NaN</td>\n",
       "    </tr>\n",
       "  </tbody>\n",
       "</table>\n",
       "</div>"
      ],
      "text/plain": [
       "                     category description\n",
       "39330  Clothing & Accessories         NaN"
      ]
     },
     "execution_count": 13,
     "metadata": {},
     "output_type": "execute_result"
    }
   ],
   "source": [
    "data[data[\"description\"].isna()]"
   ]
  },
  {
   "cell_type": "code",
   "execution_count": 16,
   "id": "da8e6f03",
   "metadata": {},
   "outputs": [],
   "source": [
    "data.dropna(inplace=True)"
   ]
  }
 ],
 "metadata": {
  "kernelspec": {
   "display_name": "Python 3 (ipykernel)",
   "language": "python",
   "name": "python3"
  },
  "language_info": {
   "codemirror_mode": {
    "name": "ipython",
    "version": 3
   },
   "file_extension": ".py",
   "mimetype": "text/x-python",
   "name": "python",
   "nbconvert_exporter": "python",
   "pygments_lexer": "ipython3",
   "version": "3.9.6"
  }
 },
 "nbformat": 4,
 "nbformat_minor": 5
}
